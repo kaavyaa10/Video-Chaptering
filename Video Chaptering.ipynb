{
 "cells": [
  {
   "cell_type": "code",
   "execution_count": 1,
   "id": "1845e164",
   "metadata": {},
   "outputs": [
    {
     "name": "stdout",
     "output_type": "stream",
     "text": [
      "NumPy version: 1.21.5\n",
      "Pandas version: 1.4.2\n"
     ]
    }
   ],
   "source": [
    "import numpy\n",
    "import pandas\n",
    "\n",
    "print(\"NumPy version:\", numpy.__version__)\n",
    "print(\"Pandas version:\", pandas.__version__)\n"
   ]
  },
  {
   "cell_type": "code",
   "execution_count": 2,
   "id": "d360bb36",
   "metadata": {},
   "outputs": [
    {
     "name": "stdout",
     "output_type": "stream",
     "text": [
      "Found existing installation: numpy 1.21.5\n",
      "Uninstalling numpy-1.21.5:\n"
     ]
    },
    {
     "name": "stderr",
     "output_type": "stream",
     "text": [
      "ERROR: Exception:\n",
      "Traceback (most recent call last):\n",
      "  File \"C:\\ProgramData\\Anaconda3\\lib\\shutil.py\", line 823, in move\n",
      "    os.rename(src, real_dst)\n",
      "PermissionError: [WinError 5] Access is denied: 'c:\\\\programdata\\\\anaconda3\\\\lib\\\\site-packages\\\\numpy-1.21.5.dist-info\\\\' -> 'C:\\\\Users\\\\LENOVO\\\\AppData\\\\Local\\\\Temp\\\\pip-uninstall-o00jh2n8'\n",
      "\n",
      "During handling of the above exception, another exception occurred:\n",
      "\n",
      "Traceback (most recent call last):\n",
      "  File \"C:\\ProgramData\\Anaconda3\\lib\\site-packages\\pip\\_internal\\cli\\base_command.py\", line 173, in _main\n",
      "    status = self.run(options, args)\n",
      "  File \"C:\\ProgramData\\Anaconda3\\lib\\site-packages\\pip\\_internal\\commands\\uninstall.py\", line 93, in run\n",
      "    uninstall_pathset = req.uninstall(\n",
      "  File \"C:\\ProgramData\\Anaconda3\\lib\\site-packages\\pip\\_internal\\req\\req_install.py\", line 633, in uninstall\n",
      "    uninstalled_pathset.remove(auto_confirm, verbose)\n",
      "  File \"C:\\ProgramData\\Anaconda3\\lib\\site-packages\\pip\\_internal\\req\\req_uninstall.py\", line 384, in remove\n",
      "    moved.stash(path)\n",
      "  File \"C:\\ProgramData\\Anaconda3\\lib\\site-packages\\pip\\_internal\\req\\req_uninstall.py\", line 281, in stash\n",
      "    renames(path, new_path)\n",
      "  File \"C:\\ProgramData\\Anaconda3\\lib\\site-packages\\pip\\_internal\\utils\\misc.py\", line 331, in renames\n",
      "    shutil.move(old, new)\n",
      "  File \"C:\\ProgramData\\Anaconda3\\lib\\shutil.py\", line 841, in move\n",
      "    rmtree(src)\n",
      "  File \"C:\\ProgramData\\Anaconda3\\lib\\shutil.py\", line 757, in rmtree\n",
      "    return _rmtree_unsafe(path, onerror)\n",
      "  File \"C:\\ProgramData\\Anaconda3\\lib\\shutil.py\", line 627, in _rmtree_unsafe\n",
      "    onerror(os.unlink, fullname, sys.exc_info())\n",
      "  File \"C:\\ProgramData\\Anaconda3\\lib\\shutil.py\", line 625, in _rmtree_unsafe\n",
      "    os.unlink(fullname)\n",
      "PermissionError: [WinError 5] Access is denied: 'c:\\\\programdata\\\\anaconda3\\\\lib\\\\site-packages\\\\numpy-1.21.5.dist-info\\\\direct_url.json'\n"
     ]
    }
   ],
   "source": [
    "!pip uninstall -y numpy pandas\n"
   ]
  },
  {
   "cell_type": "code",
   "execution_count": 3,
   "id": "26375104",
   "metadata": {},
   "outputs": [
    {
     "name": "stdout",
     "output_type": "stream",
     "text": [
      "Defaulting to user installation because normal site-packages is not writeable\n",
      "Collecting numpy==1.23.5\n",
      "  Downloading numpy-1.23.5-cp39-cp39-win_amd64.whl (14.7 MB)\n",
      "Collecting pandas==1.5.3\n",
      "  Downloading pandas-1.5.3-cp39-cp39-win_amd64.whl (10.9 MB)\n",
      "Requirement already satisfied: python-dateutil>=2.8.1 in c:\\programdata\\anaconda3\\lib\\site-packages (from pandas==1.5.3) (2.8.2)\n",
      "Requirement already satisfied: pytz>=2020.1 in c:\\users\\lenovo\\appdata\\roaming\\python\\python39\\site-packages (from pandas==1.5.3) (2024.2)\n",
      "Requirement already satisfied: six>=1.5 in c:\\programdata\\anaconda3\\lib\\site-packages (from python-dateutil>=2.8.1->pandas==1.5.3) (1.16.0)\n",
      "Installing collected packages: numpy, pandas\n",
      "Successfully installed numpy-1.23.5 pandas-1.5.3\n"
     ]
    },
    {
     "name": "stderr",
     "output_type": "stream",
     "text": [
      "  WARNING: The script f2py.exe is installed in 'C:\\Users\\LENOVO\\AppData\\Roaming\\Python\\Python39\\Scripts' which is not on PATH.\n",
      "  Consider adding this directory to PATH or, if you prefer to suppress this warning, use --no-warn-script-location.\n",
      "ERROR: pip's dependency resolver does not currently take into account all the packages that are installed. This behaviour is the source of the following dependency conflicts.\n",
      "daal4py 2021.5.0 requires daal==2021.4.0, which is not installed.\n",
      "tensorflow 2.9.1 requires protobuf<3.20,>=3.9.2, but you have protobuf 5.29.4 which is incompatible.\n",
      "tensorboard 2.9.1 requires protobuf<3.20,>=3.9.2, but you have protobuf 5.29.4 which is incompatible.\n",
      "scipy 1.7.3 requires numpy<1.23.0,>=1.16.5, but you have numpy 1.23.5 which is incompatible.\n"
     ]
    }
   ],
   "source": [
    "!pip install numpy==1.23.5 pandas==1.5.3\n"
   ]
  },
  {
   "cell_type": "code",
   "execution_count": 4,
   "id": "2fab7f14",
   "metadata": {},
   "outputs": [
    {
     "name": "stdout",
     "output_type": "stream",
     "text": [
      "Defaulting to user installation because normal site-packages is not writeable\n",
      "Requirement already satisfied: youtube-transcript-api in c:\\users\\lenovo\\appdata\\roaming\\python\\python39\\site-packages (1.0.3)\n",
      "Requirement already satisfied: defusedxml<0.8.0,>=0.7.1 in c:\\programdata\\anaconda3\\lib\\site-packages (from youtube-transcript-api) (0.7.1)\n",
      "Requirement already satisfied: requests in c:\\users\\lenovo\\appdata\\roaming\\python\\python39\\site-packages (from youtube-transcript-api) (2.32.3)\n",
      "Requirement already satisfied: charset-normalizer<4,>=2 in c:\\programdata\\anaconda3\\lib\\site-packages (from requests->youtube-transcript-api) (2.0.4)\n",
      "Requirement already satisfied: certifi>=2017.4.17 in c:\\users\\lenovo\\appdata\\roaming\\python\\python39\\site-packages (from requests->youtube-transcript-api) (2024.7.4)\n",
      "Requirement already satisfied: urllib3<3,>=1.21.1 in c:\\programdata\\anaconda3\\lib\\site-packages (from requests->youtube-transcript-api) (1.26.9)\n",
      "Requirement already satisfied: idna<4,>=2.5 in c:\\users\\lenovo\\appdata\\roaming\\python\\python39\\site-packages (from requests->youtube-transcript-api) (3.7)\n",
      "Note: you may need to restart the kernel to use updated packages.\n"
     ]
    }
   ],
   "source": [
    "pip install youtube-transcript-api\n"
   ]
  },
  {
   "cell_type": "code",
   "execution_count": 5,
   "id": "38f4d104",
   "metadata": {},
   "outputs": [
    {
     "name": "stdout",
     "output_type": "stream",
     "text": [
      "Defaulting to user installation because normal site-packages is not writeable\n",
      "Requirement already satisfied: google-api-python-client in c:\\users\\lenovo\\appdata\\roaming\\python\\python39\\site-packages (2.169.0)\n",
      "Requirement already satisfied: google-auth!=2.24.0,!=2.25.0,<3.0.0,>=1.32.0 in c:\\users\\lenovo\\appdata\\roaming\\python\\python39\\site-packages (from google-api-python-client) (2.39.0)\n",
      "Requirement already satisfied: httplib2<1.0.0,>=0.19.0 in c:\\users\\lenovo\\appdata\\roaming\\python\\python39\\site-packages (from google-api-python-client) (0.22.0)\n",
      "Requirement already satisfied: uritemplate<5,>=3.0.1 in c:\\users\\lenovo\\appdata\\roaming\\python\\python39\\site-packages (from google-api-python-client) (4.1.1)\n",
      "Requirement already satisfied: google-api-core!=2.0.*,!=2.1.*,!=2.2.*,!=2.3.0,<3.0.0,>=1.31.5 in c:\\users\\lenovo\\appdata\\roaming\\python\\python39\\site-packages (from google-api-python-client) (2.24.2)\n",
      "Requirement already satisfied: google-auth-httplib2<1.0.0,>=0.2.0 in c:\\users\\lenovo\\appdata\\roaming\\python\\python39\\site-packages (from google-api-python-client) (0.2.0)\n",
      "Requirement already satisfied: protobuf!=3.20.0,!=3.20.1,!=4.21.0,!=4.21.1,!=4.21.2,!=4.21.3,!=4.21.4,!=4.21.5,<7.0.0,>=3.19.5 in c:\\users\\lenovo\\appdata\\roaming\\python\\python39\\site-packages (from google-api-core!=2.0.*,!=2.1.*,!=2.2.*,!=2.3.0,<3.0.0,>=1.31.5->google-api-python-client) (5.29.4)\n",
      "Requirement already satisfied: proto-plus<2.0.0,>=1.22.3 in c:\\users\\lenovo\\appdata\\roaming\\python\\python39\\site-packages (from google-api-core!=2.0.*,!=2.1.*,!=2.2.*,!=2.3.0,<3.0.0,>=1.31.5->google-api-python-client) (1.26.1)\n",
      "Requirement already satisfied: requests<3.0.0,>=2.18.0 in c:\\users\\lenovo\\appdata\\roaming\\python\\python39\\site-packages (from google-api-core!=2.0.*,!=2.1.*,!=2.2.*,!=2.3.0,<3.0.0,>=1.31.5->google-api-python-client) (2.32.3)\n",
      "Requirement already satisfied: googleapis-common-protos<2.0.0,>=1.56.2 in c:\\users\\lenovo\\appdata\\roaming\\python\\python39\\site-packages (from google-api-core!=2.0.*,!=2.1.*,!=2.2.*,!=2.3.0,<3.0.0,>=1.31.5->google-api-python-client) (1.70.0)\n",
      "Requirement already satisfied: cachetools<6.0,>=2.0.0 in c:\\programdata\\anaconda3\\lib\\site-packages (from google-auth!=2.24.0,!=2.25.0,<3.0.0,>=1.32.0->google-api-python-client) (4.2.2)\n",
      "Requirement already satisfied: pyasn1-modules>=0.2.1 in c:\\programdata\\anaconda3\\lib\\site-packages (from google-auth!=2.24.0,!=2.25.0,<3.0.0,>=1.32.0->google-api-python-client) (0.2.8)\n",
      "Requirement already satisfied: rsa<5,>=3.1.4 in c:\\programdata\\anaconda3\\lib\\site-packages (from google-auth!=2.24.0,!=2.25.0,<3.0.0,>=1.32.0->google-api-python-client) (4.7.2)\n",
      "Requirement already satisfied: pyparsing!=3.0.0,!=3.0.1,!=3.0.2,!=3.0.3,<4,>=2.4.2 in c:\\programdata\\anaconda3\\lib\\site-packages (from httplib2<1.0.0,>=0.19.0->google-api-python-client) (3.0.4)\n",
      "Requirement already satisfied: pyasn1<0.5.0,>=0.4.6 in c:\\programdata\\anaconda3\\lib\\site-packages (from pyasn1-modules>=0.2.1->google-auth!=2.24.0,!=2.25.0,<3.0.0,>=1.32.0->google-api-python-client) (0.4.8)\n",
      "Requirement already satisfied: idna<4,>=2.5 in c:\\users\\lenovo\\appdata\\roaming\\python\\python39\\site-packages (from requests<3.0.0,>=2.18.0->google-api-core!=2.0.*,!=2.1.*,!=2.2.*,!=2.3.0,<3.0.0,>=1.31.5->google-api-python-client) (3.7)\n",
      "Requirement already satisfied: charset-normalizer<4,>=2 in c:\\programdata\\anaconda3\\lib\\site-packages (from requests<3.0.0,>=2.18.0->google-api-core!=2.0.*,!=2.1.*,!=2.2.*,!=2.3.0,<3.0.0,>=1.31.5->google-api-python-client) (2.0.4)\n",
      "Requirement already satisfied: certifi>=2017.4.17 in c:\\users\\lenovo\\appdata\\roaming\\python\\python39\\site-packages (from requests<3.0.0,>=2.18.0->google-api-core!=2.0.*,!=2.1.*,!=2.2.*,!=2.3.0,<3.0.0,>=1.31.5->google-api-python-client) (2024.7.4)\n",
      "Requirement already satisfied: urllib3<3,>=1.21.1 in c:\\programdata\\anaconda3\\lib\\site-packages (from requests<3.0.0,>=2.18.0->google-api-core!=2.0.*,!=2.1.*,!=2.2.*,!=2.3.0,<3.0.0,>=1.31.5->google-api-python-client) (1.26.9)\n",
      "Note: you may need to restart the kernel to use updated packages.\n"
     ]
    }
   ],
   "source": [
    "pip install google-api-python-client\n"
   ]
  },
  {
   "cell_type": "code",
   "execution_count": 6,
   "id": "debeb618",
   "metadata": {},
   "outputs": [],
   "source": [
    "import re\n",
    "import csv\n",
    "import pandas as pd\n",
    "from googleapiclient.discovery import build\n",
    "from youtube_transcript_api import YouTubeTranscriptApi"
   ]
  },
  {
   "cell_type": "code",
   "execution_count": 7,
   "id": "510e541f",
   "metadata": {},
   "outputs": [],
   "source": [
    "API_KEY = 'REPLACE_WITH_YOUR_API_KEY'"
   ]
  },
  {
   "cell_type": "code",
   "execution_count": 8,
   "id": "835d4a91",
   "metadata": {},
   "outputs": [],
   "source": [
    "def get_video_id(url):\n",
    "    # extract video id from the URL\n",
    "    video_id_match = re.search(r'(?:v=|\\/)([0-9A-Za-z_-]{11}).*', url)\n",
    "    return video_id_match.group(1) if video_id_match else None\n"
   ]
  },
  {
   "cell_type": "code",
   "execution_count": 9,
   "id": "86816e22",
   "metadata": {},
   "outputs": [],
   "source": [
    "def get_video_title(video_id):\n",
    "    # build the youTube service\n",
    "    youtube = build('youtube', 'v3', developerKey=API_KEY)\n",
    "\n",
    "    # fetch the video details\n",
    "    request = youtube.videos().list(\n",
    "        part='snippet',\n",
    "        id=video_id\n",
    "    )\n",
    "    response = request.execute()\n",
    "\n",
    "    # extract the title\n",
    "    title = response['items'][0]['snippet']['title'] if response['items'] else 'Unknown Title'\n",
    "    return title\n"
   ]
  },
  {
   "cell_type": "code",
   "execution_count": 10,
   "id": "abed0736",
   "metadata": {},
   "outputs": [],
   "source": [
    "def get_video_transcript(video_id):\n",
    "    # fetch the transcript\n",
    "    try:\n",
    "        transcript = YouTubeTranscriptApi.get_transcript(video_id)\n",
    "        return transcript\n",
    "    except Exception as e:\n",
    "        print(f\"An error occurred: {e}\")\n",
    "        return []"
   ]
  },
  {
   "cell_type": "code",
   "execution_count": 11,
   "id": "60c2c6a7",
   "metadata": {},
   "outputs": [],
   "source": [
    "def save_to_csv(title, transcript, filename):\n",
    "    # save the title and transcript to a CSV file\n",
    "    transcript_data = [{'start': entry['start'], 'text': entry['text']} for entry in transcript]\n",
    "    df = pd.DataFrame(transcript_data)\n",
    "    df.to_csv(filename, index=False)\n",
    "\n",
    "    # save the title separately\n",
    "    with open(filename, 'a', newline='') as file:\n",
    "        writer = csv.writer(file)\n",
    "        writer.writerow(['Title:', title])"
   ]
  },
  {
   "cell_type": "code",
   "execution_count": 12,
   "id": "b543d44e",
   "metadata": {},
   "outputs": [
    {
     "name": "stdout",
     "output_type": "stream",
     "text": [
      "Enter the YouTube video link: https://www.youtube.com/watch?v=L-QGH5JIHPY\n",
      "Transcript saved to L-QGH5JIHPY_transcript.csv\n"
     ]
    }
   ],
   "source": [
    "def main():\n",
    "    url = input('Enter the YouTube video link: ')\n",
    "    video_id = get_video_id(url)\n",
    "\n",
    "    if not video_id:\n",
    "        print('Invalid YouTube URL.')\n",
    "        return\n",
    "\n",
    "    title = get_video_title(video_id)\n",
    "    transcript = get_video_transcript(video_id)\n",
    "\n",
    "    if not transcript:\n",
    "        print('No transcript available for this video.')\n",
    "        return\n",
    "\n",
    "    filename = f\"{video_id}_transcript.csv\"\n",
    "    save_to_csv(title, transcript, filename)\n",
    "    print(f'Transcript saved to {filename}')\n",
    "\n",
    "if __name__ == '__main__':\n",
    "    main()"
   ]
  },
  {
   "cell_type": "code",
   "execution_count": 15,
   "id": "4186d120",
   "metadata": {},
   "outputs": [
    {
     "name": "stdout",
     "output_type": "stream",
     "text": [
      "   start                                      text\n",
      "0  0.399  hey it's Tim here in today's video we're\n",
      "1  1.839                     talking about Tableau\n",
      "2   3.56     Einstein no no that's the wrong sorry\n",
      "3    6.6       start again hey Tim here in today's\n",
      "4   8.92    video we're talking about Tableau with\n"
     ]
    }
   ],
   "source": [
    "import pandas as pd\n",
    "import numpy as np\n",
    "import matplotlib.pyplot as plt\n",
    "from sklearn.feature_extraction.text import TfidfVectorizer, CountVectorizer\n",
    "from sklearn.decomposition import NMF, LatentDirichletAllocation\n",
    "\n",
    "# load the dataset\n",
    "transcript_df = pd.read_csv(\"L-QGH5JIHPY_transcript.csv\")\n",
    "print(transcript_df.head())"
   ]
  },
  {
   "cell_type": "code",
   "execution_count": 16,
   "id": "784c3c31",
   "metadata": {},
   "outputs": [
    {
     "name": "stdout",
     "output_type": "stream",
     "text": [
      "Dataset Overview:\n",
      "<class 'pandas.core.frame.DataFrame'>\n",
      "RangeIndex: 305 entries, 0 to 304\n",
      "Data columns (total 2 columns):\n",
      " #   Column  Non-Null Count  Dtype  \n",
      "---  ------  --------------  -----  \n",
      " 0   start   304 non-null    float64\n",
      " 1   text    305 non-null    object \n",
      "dtypes: float64(1), object(1)\n",
      "memory usage: 4.9+ KB\n",
      "None\n",
      "\n",
      "Basic Statistics:\n",
      "            start\n",
      "count  304.000000\n",
      "mean   315.249007\n",
      "std    181.384351\n",
      "min      0.399000\n",
      "25%    159.830000\n",
      "50%    311.380000\n",
      "75%    476.000000\n",
      "max    624.760000\n"
     ]
    }
   ],
   "source": [
    "transcript_df['start'] = pd.to_numeric(transcript_df['start'], errors='coerce')\n",
    "\n",
    "print(\"Dataset Overview:\")\n",
    "print(transcript_df.info())\n",
    "print(\"\\nBasic Statistics:\")\n",
    "print(transcript_df.describe())"
   ]
  },
  {
   "cell_type": "code",
   "execution_count": 17,
   "id": "2dfb0230",
   "metadata": {},
   "outputs": [
    {
     "data": {
      "image/png": "[encoded data removed]",
      "text/plain": [
       "<Figure size 720x360 with 1 Axes>"
      ]
     },
     "metadata": {
      "needs_background": "light"
     },
     "output_type": "display_data"
    }
   ],
   "source": [
    "# distribution of text lengths\n",
    "transcript_df['text_length'] = transcript_df['text'].apply(len)\n",
    "plt.figure(figsize=(10, 5))\n",
    "plt.hist(transcript_df['text_length'], bins=50, color='blue', alpha=0.7)\n",
    "plt.title('Distribution of Text Lengths')\n",
    "plt.xlabel('Text Length')\n",
    "plt.ylabel('Frequency')\n",
    "plt.show()"
   ]
  },
  {
   "cell_type": "code",
   "execution_count": 18,
   "id": "953a09bd",
   "metadata": {},
   "outputs": [
    {
     "data": {
      "image/png": "[encoded data removed]",
      "text/plain": [
       "<Figure size 720x360 with 1 Axes>"
      ]
     },
     "metadata": {
      "needs_background": "light"
     },
     "output_type": "display_data"
    }
   ],
   "source": [
    "# most common words\n",
    "vectorizer = CountVectorizer(stop_words='english')\n",
    "word_counts = vectorizer.fit_transform(transcript_df['text'])\n",
    "word_counts_df = pd.DataFrame(word_counts.toarray(), columns=vectorizer.get_feature_names_out())\n",
    "common_words = word_counts_df.sum().sort_values(ascending=False).head(20)\n",
    "plt.figure(figsize=(10, 5))\n",
    "common_words.plot(kind='bar', color='green', alpha=0.7)\n",
    "plt.title('Top 20 Common Words')\n",
    "plt.xlabel('Words')\n",
    "plt.ylabel('Frequency')\n",
    "plt.show()"
   ]
  },
  {
   "cell_type": "code",
   "execution_count": 19,
   "id": "f649a32b",
   "metadata": {},
   "outputs": [
    {
     "name": "stdout",
     "output_type": "stream",
     "text": [
      "\n",
      "Identified Topics:\n",
      "Topic 1: tableau new einstein server called agent version talking vision point\n",
      "Topic 2: think people changes kind way lose need scenes representation table\n",
      "Topic 3: video previous hey today tim kind end experience um want\n",
      "Topic 4: just um sort page funny easy thing track got happen\n",
      "Topic 5: going work product make way end wasn lot best good\n",
      "Topic 6: platform ve diagram product um diagrams new generally like use\n",
      "Topic 7: little bit change quite confusing like sort story greek post\n",
      "Topic 8: salesforce like products lot inside way issue generally possible 20\n",
      "Topic 9: know people don let interesting use hands good ve really\n",
      "Topic 10: actually einstein tablet thing difficult change names really podcast time\n"
     ]
    },
    {
     "name": "stderr",
     "output_type": "stream",
     "text": [
      "C:\\ProgramData\\Anaconda3\\lib\\site-packages\\sklearn\\decomposition\\_nmf.py:289: FutureWarning: The 'init' value, when 'init=None' and n_components is less than n_samples and n_features, will be changed from 'nndsvd' to 'nndsvda' in 1.1 (renaming of 0.26).\n",
      "  warnings.warn(\n"
     ]
    }
   ],
   "source": [
    "# topic Modeling using NMF\n",
    "n_features = 1000\n",
    "n_topics = 10\n",
    "n_top_words = 10\n",
    "\n",
    "tf_vectorizer = CountVectorizer(max_df=0.95, min_df=2, stop_words='english')\n",
    "tf = tf_vectorizer.fit_transform(transcript_df['text'])\n",
    "nmf = NMF(n_components=n_topics, random_state=42).fit(tf)\n",
    "tf_feature_names = tf_vectorizer.get_feature_names_out()\n",
    "\n",
    "def display_topics(model, feature_names, no_top_words):\n",
    "    topics = []\n",
    "    for topic_idx, topic in enumerate(model.components_):\n",
    "        topic_words = [feature_names[i] for i in topic.argsort()[:-no_top_words - 1:-1]]\n",
    "        topics.append(\" \".join(topic_words))\n",
    "    return topics\n",
    "\n",
    "topics = display_topics(nmf, tf_feature_names, n_top_words)\n",
    "print(\"\\nIdentified Topics:\")\n",
    "for i, topic in enumerate(topics):\n",
    "    print(f\"Topic {i + 1}: {topic}\")"
   ]
  },
  {
   "cell_type": "code",
   "execution_count": 20,
   "id": "c003f9b5",
   "metadata": {},
   "outputs": [],
   "source": [
    "# get topic distribution for each text segment\n",
    "topic_distribution = nmf.transform(tf)\n",
    "\n",
    "# align the lengths by trimming the extra row in topic_distribution\n",
    "topic_distribution_trimmed = topic_distribution[:len(transcript_df)]\n",
    "\n",
    "# compute the dominant topic for each text segment\n",
    "transcript_df['dominant_topic'] = topic_distribution_trimmed.argmax(axis=1)"
   ]
  },
  {
   "cell_type": "code",
   "execution_count": 21,
   "id": "8a1dfa6f",
   "metadata": {},
   "outputs": [],
   "source": [
    "# analyze the content of each text segment to manually identify logical breaks\n",
    "logical_breaks = []\n",
    "\n",
    "for i in range(1, len(transcript_df)):\n",
    "    if transcript_df['dominant_topic'].iloc[i] != transcript_df['dominant_topic'].iloc[i - 1]:\n",
    "        logical_breaks.append(transcript_df['start'].iloc[i])"
   ]
  },
  {
   "cell_type": "code",
   "execution_count": 22,
   "id": "4ad1297a",
   "metadata": {},
   "outputs": [],
   "source": [
    "# consolidate the logical breaks into broader chapters\n",
    "threshold = 60  # seconds\n",
    "consolidated_breaks = []\n",
    "last_break = None\n",
    "\n",
    "for break_point in logical_breaks:\n",
    "    if last_break is None or break_point - last_break >= threshold:\n",
    "        consolidated_breaks.append(break_point)\n",
    "        last_break = break_point"
   ]
  },
  {
   "cell_type": "code",
   "execution_count": 23,
   "id": "9a646817",
   "metadata": {},
   "outputs": [],
   "source": [
    "# merge consecutive breaks with the same dominant topic\n",
    "final_chapters = []\n",
    "last_chapter = (consolidated_breaks[0], transcript_df['dominant_topic'][0])\n",
    "\n",
    "for break_point in consolidated_breaks[1:]:\n",
    "    current_topic = transcript_df[transcript_df['start'] == break_point]['dominant_topic'].values[0]\n",
    "    if current_topic == last_chapter[1]:\n",
    "        last_chapter = (last_chapter[0], current_topic)\n",
    "    else:\n",
    "        final_chapters.append(last_chapter)\n",
    "        last_chapter = (break_point, current_topic)\n",
    "\n",
    "final_chapters.append(last_chapter)  # append the last chapter"
   ]
  },
  {
   "cell_type": "code",
   "execution_count": 24,
   "id": "73ffe4c4",
   "metadata": {},
   "outputs": [
    {
     "name": "stdout",
     "output_type": "stream",
     "text": [
      "\n",
      "Final Chapter Points with Names:\n",
      "00:00:01 - Chapter 1: previous today video\n",
      "00:01:02 - Chapter 2: called new tableau\n",
      "00:02:04 - Chapter 3: bit change little\n",
      "00:03:06 - Chapter 4: context like salesforce\n",
      "00:04:06 - Chapter 5: actually really tablet\n",
      "00:05:08 - Chapter 6: just sort um\n",
      "00:06:09 - Chapter 7: know ll people\n",
      "00:07:09 - Chapter 8: ability changing new\n",
      "00:08:09 - Chapter 9: actually really tablet\n",
      "00:09:11 - Chapter 10: account come dunk\n",
      "00:10:12 - Chapter 11: just know let\n"
     ]
    }
   ],
   "source": [
    "# Convert the final chapters to a readable time format\n",
    "chapter_points = []\n",
    "chapter_names = []\n",
    "\n",
    "for i, (break_point, topic_idx) in enumerate(final_chapters):\n",
    "    chapter_time = pd.to_datetime(break_point, unit='s').strftime('%H:%M:%S')\n",
    "    chapter_points.append(chapter_time)\n",
    "\n",
    "    # get the context for the chapter name\n",
    "    chapter_text = transcript_df[(transcript_df['start'] >= break_point) & (transcript_df['dominant_topic'] == topic_idx)]['text'].str.cat(sep=' ')\n",
    "\n",
    "    # extract key phrases to create a chapter name\n",
    "    vectorizer = TfidfVectorizer(stop_words='english', max_features=3)\n",
    "    tfidf_matrix = vectorizer.fit_transform([chapter_text])\n",
    "    feature_names = vectorizer.get_feature_names_out()\n",
    "    chapter_name = \" \".join(feature_names)\n",
    "\n",
    "    chapter_names.append(f\"Chapter {i+1}: {chapter_name}\")\n",
    "\n",
    "# display the final chapter points with names\n",
    "print(\"\\nFinal Chapter Points with Names:\")\n",
    "for time, name in zip(chapter_points, chapter_names):\n",
    "    print(f\"{time} - {name}\")"
   ]
  },
  {
   "cell_type": "code",
   "execution_count": null,
   "id": "ac68d445",
   "metadata": {},
   "outputs": [],
   "source": []
  }
 ],
 "metadata": {
  "kernelspec": {
   "display_name": "Python 3 (ipykernel)",
   "language": "python",
   "name": "python3"
  },
  "language_info": {
   "codemirror_mode": {
    "name": "ipython",
    "version": 3
   },
   "file_extension": ".py",
   "mimetype": "text/x-python",
   "name": "python",
   "nbconvert_exporter": "python",
   "pygments_lexer": "ipython3",
   "version": "3.9.12"
  }
 },
 "nbformat": 4,
 "nbformat_minor": 5
}
